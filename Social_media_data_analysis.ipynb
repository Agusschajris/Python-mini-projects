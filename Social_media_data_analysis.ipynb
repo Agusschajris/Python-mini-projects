{
 "cells": [
  {
   "cell_type": "markdown",
   "id": "900bd4c7",
   "metadata": {},
   "source": [
    "# Project: Clean and analyze social media usage data with Python\n",
    "Coursera Project Network\n",
    "\n",
    "Link to Coursera's outline of the task: [https://www.coursera.org/projects/analyze-social-media-python?](https://www.coursera.org/projects/analyze-social-media-python?)\n",
    "\n",
    "Link to my finished project in Coursera: [https://www.coursera.org/user/321bfd59872d660b67247900c23b0421](https://www.coursera.org/user/321bfd59872d660b67247900c23b0421)"
   ]
  },
  {
   "cell_type": "code",
   "execution_count": 10,
   "id": "a06eb855-586e-45b0-bb44-c8a64d87d319",
   "metadata": {},
   "outputs": [],
   "source": [
    "import pandas as pd\n",
    "import numpy as np\n",
    "import matplotlib.pyplot as plt\n",
    "import seaborn as sns\n",
    "import random"
   ]
  },
  {
   "cell_type": "markdown",
   "id": "15aa180e",
   "metadata": {},
   "source": [
    "#### Generate random data"
   ]
  },
  {
   "cell_type": "code",
   "execution_count": 34,
   "id": "2efce89c",
   "metadata": {},
   "outputs": [],
   "source": [
    "categories = ['Food', 'Travel', 'Fashion', 'Fitness', 'Music', 'Culture', 'Family', 'Health']\n",
    "\n",
    "n = 500\n",
    "dates = pd.date_range('2021-01-01', periods=n) # create 500 consecutive dates starting from 2021-01-01\n",
    "# print(dates)= DatetimeIndex(['2021-01-01', '2021-01-02', '2021-01-03', '2021-01-04', ...])\n",
    "\n",
    "random_categories = [random.choice(categories) for _ in range(n)] # assign a random category to each entry (create a list of 500 categories)\n",
    "# print(random_categories) = ['Fashion', 'Culture', 'Travel', 'Fashion', 'Health', ...]\n",
    "\n",
    "likes = np.random.randint(0, 10000, size=n) # generate a list of 500 integers that represent the likes of the posts\n",
    "# print(likes) = [ 859 5964 6958 5647 3949 7841  483 6165  339 1525 ... ]\n",
    "\n",
    "# combine it all into a dictionary\n",
    "data = {\n",
    "    'Date': dates,\n",
    "    'Category': random_categories,\n",
    "    'Likes': likes\n",
    "}\n",
    "\n",
    "# turn the dictionary into a data frame\n",
    "df = pd.DataFrame(data)"
   ]
  },
  {
   "cell_type": "markdown",
   "id": "0be6b1db",
   "metadata": {},
   "source": [
    "#### Explore data"
   ]
  },
  {
   "cell_type": "code",
   "execution_count": 35,
   "id": "b8169bca",
   "metadata": {},
   "outputs": [
    {
     "data": {
      "text/html": [
       "<div>\n",
       "<style scoped>\n",
       "    .dataframe tbody tr th:only-of-type {\n",
       "        vertical-align: middle;\n",
       "    }\n",
       "\n",
       "    .dataframe tbody tr th {\n",
       "        vertical-align: top;\n",
       "    }\n",
       "\n",
       "    .dataframe thead th {\n",
       "        text-align: right;\n",
       "    }\n",
       "</style>\n",
       "<table border=\"1\" class=\"dataframe\">\n",
       "  <thead>\n",
       "    <tr style=\"text-align: right;\">\n",
       "      <th></th>\n",
       "      <th>Date</th>\n",
       "      <th>Category</th>\n",
       "      <th>Likes</th>\n",
       "    </tr>\n",
       "  </thead>\n",
       "  <tbody>\n",
       "    <tr>\n",
       "      <th>0</th>\n",
       "      <td>2021-01-01</td>\n",
       "      <td>Family</td>\n",
       "      <td>1087</td>\n",
       "    </tr>\n",
       "    <tr>\n",
       "      <th>1</th>\n",
       "      <td>2021-01-02</td>\n",
       "      <td>Culture</td>\n",
       "      <td>3994</td>\n",
       "    </tr>\n",
       "    <tr>\n",
       "      <th>2</th>\n",
       "      <td>2021-01-03</td>\n",
       "      <td>Health</td>\n",
       "      <td>1352</td>\n",
       "    </tr>\n",
       "    <tr>\n",
       "      <th>3</th>\n",
       "      <td>2021-01-04</td>\n",
       "      <td>Family</td>\n",
       "      <td>1196</td>\n",
       "    </tr>\n",
       "    <tr>\n",
       "      <th>4</th>\n",
       "      <td>2021-01-05</td>\n",
       "      <td>Health</td>\n",
       "      <td>8462</td>\n",
       "    </tr>\n",
       "  </tbody>\n",
       "</table>\n",
       "</div>"
      ],
      "text/plain": [
       "        Date Category  Likes\n",
       "0 2021-01-01   Family   1087\n",
       "1 2021-01-02  Culture   3994\n",
       "2 2021-01-03   Health   1352\n",
       "3 2021-01-04   Family   1196\n",
       "4 2021-01-05   Health   8462"
      ]
     },
     "execution_count": 35,
     "metadata": {},
     "output_type": "execute_result"
    }
   ],
   "source": [
    "df.head()"
   ]
  },
  {
   "cell_type": "code",
   "execution_count": 36,
   "id": "39f342f3",
   "metadata": {},
   "outputs": [
    {
     "name": "stdout",
     "output_type": "stream",
     "text": [
      "<class 'pandas.core.frame.DataFrame'>\n",
      "RangeIndex: 500 entries, 0 to 499\n",
      "Data columns (total 3 columns):\n",
      " #   Column    Non-Null Count  Dtype         \n",
      "---  ------    --------------  -----         \n",
      " 0   Date      500 non-null    datetime64[ns]\n",
      " 1   Category  500 non-null    object        \n",
      " 2   Likes     500 non-null    int32         \n",
      "dtypes: datetime64[ns](1), int32(1), object(1)\n",
      "memory usage: 9.9+ KB\n"
     ]
    }
   ],
   "source": [
    "df.info()"
   ]
  },
  {
   "cell_type": "code",
   "execution_count": 37,
   "id": "b4b99e47",
   "metadata": {},
   "outputs": [
    {
     "data": {
      "text/html": [
       "<div>\n",
       "<style scoped>\n",
       "    .dataframe tbody tr th:only-of-type {\n",
       "        vertical-align: middle;\n",
       "    }\n",
       "\n",
       "    .dataframe tbody tr th {\n",
       "        vertical-align: top;\n",
       "    }\n",
       "\n",
       "    .dataframe thead th {\n",
       "        text-align: right;\n",
       "    }\n",
       "</style>\n",
       "<table border=\"1\" class=\"dataframe\">\n",
       "  <thead>\n",
       "    <tr style=\"text-align: right;\">\n",
       "      <th></th>\n",
       "      <th>Date</th>\n",
       "      <th>Likes</th>\n",
       "    </tr>\n",
       "  </thead>\n",
       "  <tbody>\n",
       "    <tr>\n",
       "      <th>count</th>\n",
       "      <td>500</td>\n",
       "      <td>500.000000</td>\n",
       "    </tr>\n",
       "    <tr>\n",
       "      <th>mean</th>\n",
       "      <td>2021-09-07 12:00:00</td>\n",
       "      <td>4961.658000</td>\n",
       "    </tr>\n",
       "    <tr>\n",
       "      <th>min</th>\n",
       "      <td>2021-01-01 00:00:00</td>\n",
       "      <td>0.000000</td>\n",
       "    </tr>\n",
       "    <tr>\n",
       "      <th>25%</th>\n",
       "      <td>2021-05-05 18:00:00</td>\n",
       "      <td>2532.000000</td>\n",
       "    </tr>\n",
       "    <tr>\n",
       "      <th>50%</th>\n",
       "      <td>2021-09-07 12:00:00</td>\n",
       "      <td>4707.500000</td>\n",
       "    </tr>\n",
       "    <tr>\n",
       "      <th>75%</th>\n",
       "      <td>2022-01-10 06:00:00</td>\n",
       "      <td>7503.000000</td>\n",
       "    </tr>\n",
       "    <tr>\n",
       "      <th>max</th>\n",
       "      <td>2022-05-15 00:00:00</td>\n",
       "      <td>9982.000000</td>\n",
       "    </tr>\n",
       "    <tr>\n",
       "      <th>std</th>\n",
       "      <td>NaN</td>\n",
       "      <td>2842.589053</td>\n",
       "    </tr>\n",
       "  </tbody>\n",
       "</table>\n",
       "</div>"
      ],
      "text/plain": [
       "                      Date        Likes\n",
       "count                  500   500.000000\n",
       "mean   2021-09-07 12:00:00  4961.658000\n",
       "min    2021-01-01 00:00:00     0.000000\n",
       "25%    2021-05-05 18:00:00  2532.000000\n",
       "50%    2021-09-07 12:00:00  4707.500000\n",
       "75%    2022-01-10 06:00:00  7503.000000\n",
       "max    2022-05-15 00:00:00  9982.000000\n",
       "std                    NaN  2842.589053"
      ]
     },
     "execution_count": 37,
     "metadata": {},
     "output_type": "execute_result"
    }
   ],
   "source": [
    "df.describe()"
   ]
  },
  {
   "cell_type": "code",
   "execution_count": 38,
   "id": "7bca9461",
   "metadata": {},
   "outputs": [
    {
     "data": {
      "text/plain": [
       "Category\n",
       "Health     87\n",
       "Family     74\n",
       "Fitness    59\n",
       "Culture    58\n",
       "Music      58\n",
       "Food       55\n",
       "Travel     55\n",
       "Fashion    54\n",
       "Name: count, dtype: int64"
      ]
     },
     "execution_count": 38,
     "metadata": {},
     "output_type": "execute_result"
    }
   ],
   "source": [
    "df['Category'].value_counts() # print the count (the number of times it appears) of each value in the 'Category' column"
   ]
  },
  {
   "cell_type": "markdown",
   "id": "7ba9b8cd",
   "metadata": {},
   "source": [
    "#### Clean data"
   ]
  },
  {
   "cell_type": "code",
   "execution_count": 39,
   "id": "6f7f3ea8",
   "metadata": {},
   "outputs": [
    {
     "name": "stdout",
     "output_type": "stream",
     "text": [
      "New amount of rows: 500\n"
     ]
    }
   ],
   "source": [
    "df = df.dropna() # delete rows with null values (though there are none)\n",
    "df = df.drop_duplicates() # delete duplicated rows (rows that have the same values in every column)\n",
    "\n",
    "df = df.reset_index(drop=True) # reset index after deleting rows\n",
    "\n",
    "print(\"New amount of rows: \" + str(len(df))) # though it may still be the same"
   ]
  },
  {
   "cell_type": "markdown",
   "id": "d19ee6c4",
   "metadata": {},
   "source": [
    "#### Analyze and visualize data"
   ]
  },
  {
   "cell_type": "markdown",
   "id": "82247c50",
   "metadata": {},
   "source": [
    "##### Plots"
   ]
  },
  {
   "cell_type": "code",
   "execution_count": 40,
   "id": "f8874128",
   "metadata": {},
   "outputs": [
    {
     "data": {
      "image/png": "[encoded data removed]",
      "text/plain": [
       "<Figure size 640x480 with 1 Axes>"
      ]
     },
     "metadata": {},
     "output_type": "display_data"
    }
   ],
   "source": [
    "sns.histplot(data=df, x=df['Likes'], bins=30, color='pink') # create an histogram to visualize likes (same as x='Likes')\n",
    "plt.title('Likes distribution')\n",
    "plt.xlabel('Number of likes')\n",
    "plt.ylabel('Frequency')\n",
    "plt.show()"
   ]
  },
  {
   "cell_type": "code",
   "execution_count": 41,
   "id": "ce8db7c7",
   "metadata": {},
   "outputs": [
    {
     "data": {
      "image/png": "[encoded data removed]",
      "text/plain": [
       "<Figure size 640x480 with 1 Axes>"
      ]
     },
     "metadata": {},
     "output_type": "display_data"
    }
   ],
   "source": [
    "sns.boxplot(data=df, x=df['Category'], y=df['Likes'], hue='Category', palette='pastel', legend=False) # create a box plot about likes per category\n",
    "plt.title('Likes per category')\n",
    "plt.show()"
   ]
  },
  {
   "cell_type": "markdown",
   "id": "e6b8c2f3",
   "metadata": {},
   "source": [
    "##### Statistics"
   ]
  },
  {
   "cell_type": "code",
   "execution_count": 42,
   "id": "76d93f88",
   "metadata": {},
   "outputs": [
    {
     "data": {
      "text/plain": [
       "4961.658"
      ]
     },
     "execution_count": 42,
     "metadata": {},
     "output_type": "execute_result"
    }
   ],
   "source": [
    "df['Likes'].mean()"
   ]
  },
  {
   "cell_type": "code",
   "execution_count": 52,
   "id": "2f09a0ea",
   "metadata": {},
   "outputs": [
    {
     "data": {
      "text/plain": [
       "Category\n",
       "Culture    4647.896552\n",
       "Family     4864.081081\n",
       "Fashion    5426.388889\n",
       "Fitness    5200.593220\n",
       "Food       4897.709091\n",
       "Health     5210.022989\n",
       "Music      4598.879310\n",
       "Travel     4764.872727\n",
       "Name: Likes, dtype: float64"
      ]
     },
     "execution_count": 52,
     "metadata": {},
     "output_type": "execute_result"
    }
   ],
   "source": [
    "category_likes_mean = df.groupby('Category')['Likes'].mean() # I group every entry by category and then print the mean of likes in that category\n",
    "category_likes_mean"
   ]
  },
  {
   "cell_type": "code",
   "execution_count": 50,
   "id": "6ee09ad6",
   "metadata": {},
   "outputs": [
    {
     "name": "stdout",
     "output_type": "stream",
     "text": [
      "Fashion\n",
      "5426.388888888889\n"
     ]
    }
   ],
   "source": [
    "print(category_likes_mean.idxmax()) # the category with the highest mean of likes\n",
    "print(category_likes_mean.max()) # the highest mean of likes"
   ]
  },
  {
   "cell_type": "code",
   "execution_count": 53,
   "id": "5f22d4c1",
   "metadata": {},
   "outputs": [
    {
     "name": "stdout",
     "output_type": "stream",
     "text": [
      "Music\n",
      "4598.879310344828\n"
     ]
    }
   ],
   "source": [
    "print(category_likes_mean.idxmin()) # the category with the highest mean of likes\n",
    "print(category_likes_mean.min()) # the highest mean of likes"
   ]
  },
  {
   "cell_type": "markdown",
   "id": "4244a8c5",
   "metadata": {},
   "source": [
    "#### Conclusions\n",
    "The mean amount of likes during the period is `4962` in the last random-generated data. The most popular category is `Fashion` with approximately `5426` likes and the least popular category is `Music` with `4599` likes. However, all categories have similar popularity. "
   ]
  }
 ],
 "metadata": {
  "kernelspec": {
   "display_name": "Python 3",
   "language": "python",
   "name": "python3"
  },
  "language_info": {
   "codemirror_mode": {
    "name": "ipython",
    "version": 3
   },
   "file_extension": ".py",
   "mimetype": "text/x-python",
   "name": "python",
   "nbconvert_exporter": "python",
   "pygments_lexer": "ipython3",
   "version": "3.12.3"
  }
 },
 "nbformat": 4,
 "nbformat_minor": 5
}
